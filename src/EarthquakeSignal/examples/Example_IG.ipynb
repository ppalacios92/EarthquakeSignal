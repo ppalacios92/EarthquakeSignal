{
 "cells": [
  {
   "cell_type": "code",
   "execution_count": null,
   "id": "fbfce019",
   "metadata": {},
   "outputs": [],
   "source": [
    "from EarthquakeSignal import EarthquakeBatchProcessor\n"
   ]
  },
  {
   "cell_type": "code",
   "execution_count": null,
   "id": "4b0a27e6",
   "metadata": {},
   "outputs": [],
   "source": [
    "# pip list"
   ]
  },
  {
   "cell_type": "markdown",
   "id": "4c5fcc58",
   "metadata": {},
   "source": [
    "### Set config manual "
   ]
  },
  {
   "cell_type": "code",
   "execution_count": null,
   "id": "2bf96418",
   "metadata": {},
   "outputs": [],
   "source": [
    "config = {\n",
    "    'file_extension': '.txt',\n",
    "    'unit_factor': 981,\n",
    "    \n",
    "    'apply_baseline_correction': True,\n",
    "    'apply_arias_analysis': True,\n",
    "    'apply_fourier_analysis': True,\n",
    "    '_compute_newmark_spectra': True,\n",
    "    'compute_rotd': False,\n",
    "    'print_summary': True,\n",
    "    \n",
    "    'plot_signals': True,\n",
    "    'plot_corrected_signals': False,\n",
    "    'plot_arias_signals': True,\n",
    "    'plot_fourier_signals': True,  \n",
    "    'plot_newmark_spectra': True,\n",
    "    'plot_rotd': False,\n",
    "    \n",
    "    'writer': True, \n",
    "}\n"
   ]
  },
  {
   "cell_type": "code",
   "execution_count": null,
   "id": "b67219be",
   "metadata": {},
   "outputs": [],
   "source": [
    "registers_path = r'data\\IG'\n"
   ]
  },
  {
   "cell_type": "code",
   "execution_count": null,
   "id": "9d824c95",
   "metadata": {},
   "outputs": [],
   "source": [
    "processor = EarthquakeBatchProcessor(registers_path, config)\n",
    "earthquake = processor.process_all()\n"
   ]
  },
  {
   "cell_type": "markdown",
   "id": "f83f5a6f",
   "metadata": {},
   "source": [
    "### For each earthquake"
   ]
  },
  {
   "cell_type": "code",
   "execution_count": null,
   "id": "113c439f",
   "metadata": {},
   "outputs": [],
   "source": [
    "# earthquake['APED'].print_summary()\n",
    "# earthquake['APED'].plot_original_signals()\n",
    "# earthquake['APED'].plot_corrected_signals()\n",
    "# earthquake['APED'].plot_arias_signals()\n",
    "# earthquake['APED'].plot_fourier_signals()\n",
    "# earthquake['APED'].plot_newmark_spectra()\n"
   ]
  },
  {
   "cell_type": "code",
   "execution_count": null,
   "id": "ec780096",
   "metadata": {},
   "outputs": [],
   "source": [
    "earthquake['APED'].print_summary()"
   ]
  },
  {
   "cell_type": "code",
   "execution_count": null,
   "id": "88ec825c",
   "metadata": {},
   "outputs": [],
   "source": [
    "# earthquake['APED'].component_names['H1']"
   ]
  },
  {
   "cell_type": "code",
   "execution_count": null,
   "id": "3e1f0cc5",
   "metadata": {},
   "outputs": [],
   "source": [
    "# record = earthquake['APED']\n",
    "\n",
    "\n",
    "# print(\"🔹 Arias Intensity\")\n",
    "# print(f\"Significant Duration Start  : {record.arias['H1']['t_start']:.3f} s\")\n",
    "# print(f\"Significant Duration End    : {record.arias['H1']['t_end']:.3f} s\")\n",
    "# print(f\"Total Arias Intensity       : {record.arias['H1']['IA_total']:.5f} m/s\")\n",
    "# print(f\"Destructive Potential Index : {record.arias['H1']['pot_dest']:.5f}\")\n",
    "\n",
    "\n",
    "# print(\"\\n🔹 Fourier Analysis\")\n",
    "# print(\"Dominant Periods (s):\", record.fourier['H1']['dominant_periods'])"
   ]
  },
  {
   "cell_type": "code",
   "execution_count": null,
   "id": "f14766a2",
   "metadata": {},
   "outputs": [],
   "source": [
    "# APED_Signals=record.signals['H1']"
   ]
  },
  {
   "cell_type": "markdown",
   "id": "4a079943",
   "metadata": {},
   "source": [
    "## Keys and Methods"
   ]
  },
  {
   "cell_type": "code",
   "execution_count": null,
   "id": "42d58731",
   "metadata": {},
   "outputs": [],
   "source": [
    "\n",
    "first_key = next(iter(earthquake))\n",
    "eq = earthquake[first_key]\n",
    "\n",
    "print(\"Keys:\")\n",
    "for key in vars(eq):\n",
    "    print(f\"  - {key}\")\n",
    "\n",
    "print(\"\\nMethods:\")\n",
    "import inspect\n",
    "methods = [name for name, obj in inspect.getmembers(eq, inspect.ismethod) if not name.startswith('_')]\n",
    "for m in methods:\n",
    "    print(f\"  - {m}()\")"
   ]
  },
  {
   "cell_type": "code",
   "execution_count": null,
   "id": "1df73ff2",
   "metadata": {},
   "outputs": [],
   "source": [
    "# import numpy as np\n",
    "# import matplotlib.pyplot as plt\n",
    "# import os\n",
    "\n",
    "# # Datos\n",
    "# acel = earthquake['1RUPBL1'].signals['H1']\n",
    "# dt = earthquake['1RUPBL1'].dt\n",
    "# name = earthquake['1RUPBL1'].name\n",
    "# label = earthquake['1RUPBL1'].component_names['H1']\n",
    "\n",
    "# # Eje de tiempo\n",
    "# time = np.arange(len(acel)) * dt\n",
    "\n",
    "# # Crear figura\n",
    "# plt.figure(figsize=(7, 2))\n",
    "# plt.plot(time, acel, label=f\"H1 - {label}\", linewidth=1.5)\n",
    "\n",
    "# # Formato\n",
    "# plt.xlabel('Time [s]', fontsize=9, fontweight='bold')\n",
    "# plt.ylabel('Acceleration [g]', fontsize=9, fontweight='bold')\n",
    "# plt.title(f\"H1 Ground Motion - {name}\", fontsize=11, fontweight='bold')\n",
    "# plt.legend(loc='upper right', fontsize=9)\n",
    "# plt.tick_params(axis='both', labelsize=9)\n",
    "# plt.grid(True)\n",
    "# plt.xlim(left=0)\n",
    "\n",
    "# # Guardar como SVG (opcional)\n",
    "# save_svg = True\n",
    "# if save_svg:\n",
    "#     project_root = os.path.abspath(os.path.join(os.getcwd(), '..', '..'))\n",
    "#     output_path = os.path.join(project_root, 'outputs', name)\n",
    "#     os.makedirs(output_path, exist_ok=True)\n",
    "#     file_path = os.path.join(output_path, \"H1_ground_motion.svg\")\n",
    "#     plt.savefig(file_path, format=\"svg\")\n",
    "\n",
    "# # Mostrar\n",
    "# plt.show()\n"
   ]
  },
  {
   "cell_type": "code",
   "execution_count": null,
   "id": "208b5ae5",
   "metadata": {},
   "outputs": [],
   "source": [
    "# ppp"
   ]
  },
  {
   "cell_type": "markdown",
   "id": "ddda5ed4",
   "metadata": {},
   "source": [
    "### All spectra"
   ]
  },
  {
   "cell_type": "code",
   "execution_count": null,
   "id": "cae79040",
   "metadata": {},
   "outputs": [],
   "source": [
    "import matplotlib.pyplot as plt\n",
    "import numpy as np\n",
    "import os\n",
    "\n",
    "# --- Calcular ruta correcta ---\n",
    "project_root = os.path.abspath(os.path.join(os.getcwd(), '..', '..', '..'))\n",
    "output_dir = os.path.join(project_root, 'outputs')\n",
    "os.makedirs(output_dir, exist_ok=True)\n",
    "svg_path = os.path.join(output_dir, \"all _records_pedernales2016.svg\")\n",
    "\n",
    "# --- Graficar espectros ---\n",
    "plt.figure(figsize=(14, 4))\n",
    "\n",
    "# Subplot para H1\n",
    "plt.subplot(1, 2, 1)\n",
    "for rsn, eq in earthquake.items():\n",
    "    try:\n",
    "        T_H1 = eq.newmark_spectra['H1']['T']\n",
    "        PSa_H1 = eq.newmark_spectra['H1']['PSa']\n",
    "        plt.plot(T_H1, PSa_H1, linewidth=1.5, label=f\"{rsn}\")\n",
    "    except KeyError:\n",
    "        print(f\"Warning: {rsn} missing H1 spectrum\")\n",
    "\n",
    "plt.title(\"Component H1\", fontsize=10, fontweight='bold')\n",
    "plt.xlabel(\"Period [s]\", fontsize=9, fontweight='bold')\n",
    "plt.ylabel(\"PSa [g]\", fontsize=9, fontweight='bold')\n",
    "plt.grid(True, which='both')\n",
    "plt.xlim(left=0, right=5)\n",
    "plt.tick_params(axis='both', labelsize=8)\n",
    "plt.legend(fontsize=7, loc='upper right', ncol=2)\n",
    "\n",
    "# Subplot para H2\n",
    "plt.subplot(1, 2, 2)\n",
    "for rsn, eq in earthquake.items():\n",
    "    try:\n",
    "        T_H2 = eq.newmark_spectra['H2']['T']\n",
    "        PSa_H2 = eq.newmark_spectra['H2']['PSa']\n",
    "        plt.plot(T_H2, PSa_H2, linewidth=1.5, label=f\"{rsn}\")\n",
    "    except KeyError:\n",
    "        print(f\"Warning: {rsn} missing H2 spectrum\")\n",
    "\n",
    "plt.title(\"Component H2\", fontsize=10, fontweight='bold')\n",
    "plt.xlabel(\"Period [s]\", fontsize=9, fontweight='bold')\n",
    "plt.ylabel(\"PSa [g]\", fontsize=9, fontweight='bold')\n",
    "plt.grid(True, which='both')\n",
    "plt.xlim(left=0, right=5)\n",
    "plt.tick_params(axis='both', labelsize=8)\n",
    "plt.legend(fontsize=7, loc='upper right', ncol=2)\n",
    "\n",
    "plt.suptitle(\"All Records Pedernales2016\", fontsize=11, fontweight='bold')\n",
    "\n",
    "# --- Guardar como SVG en outputs/\n",
    "plt.savefig(svg_path, format='svg')\n",
    "plt.show()\n",
    "\n",
    "\n"
   ]
  },
  {
   "cell_type": "markdown",
   "id": "7aeface0",
   "metadata": {},
   "source": [
    "### Rotd100"
   ]
  },
  {
   "cell_type": "code",
   "execution_count": null,
   "id": "1b4727c4",
   "metadata": {},
   "outputs": [],
   "source": [
    "\n",
    "\n",
    "# Create figure with 1 row and 1 column\n",
    "plt.figure(figsize=(7, 4))\n",
    "\n",
    "# Subplot for ROTD100\n",
    "plt.subplot(1, 1, 1)\n",
    "for rsn, eq in earthquake.items():\n",
    "    try:\n",
    "\n",
    "        T = eq.rotd['T']\n",
    "        PSa_rotd100 = eq.rotd['ROTD100']\n",
    "        pga = round(PSa_rotd100[0], 3)\n",
    "        plt.plot(T, PSa_rotd100, linewidth=1.5, label=f\"{rsn} -PGA:{pga} g\")\n",
    "    except KeyError:\n",
    "        print(f\"Warning: {rsn} missing ROTD100 spectrum\")\n",
    "\n",
    "plt.title(\"ROTD100 - All Records\", fontsize=10, fontweight='bold')\n",
    "plt.xlabel(\"Period [s]\", fontsize=9, fontweight='bold')\n",
    "plt.ylabel(\"PSa [g]\", fontsize=9, fontweight='bold')\n",
    "plt.grid(True, which='both')\n",
    "plt.xlim(left=0, right=5)\n",
    "plt.tick_params(axis='both', labelsize=8)\n",
    "plt.legend(fontsize=7, loc='upper right', ncol=2)\n",
    "plt.tight_layout()\n",
    "plt.show()\n"
   ]
  }
 ],
 "metadata": {
  "kernelspec": {
   "display_name": "Python 3",
   "language": "python",
   "name": "python3"
  },
  "language_info": {
   "codemirror_mode": {
    "name": "ipython",
    "version": 3
   },
   "file_extension": ".py",
   "mimetype": "text/x-python",
   "name": "python",
   "nbconvert_exporter": "python",
   "pygments_lexer": "ipython3",
   "version": "3.10.0"
  }
 },
 "nbformat": 4,
 "nbformat_minor": 5
}
